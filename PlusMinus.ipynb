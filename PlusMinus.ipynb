{
 "cells": [
  {
   "cell_type": "code",
   "execution_count": 9,
   "metadata": {},
   "outputs": [
    {
     "name": "stdout",
     "output_type": "stream",
     "text": [
      "2\n",
      "-1 1\n",
      "0.5\n",
      "0.5\n",
      "0.0\n"
     ]
    }
   ],
   "source": [
    "import math\n",
    "import os\n",
    "import random\n",
    "import re\n",
    "import sys\n",
    "\n",
    "def plusMinus(arr):\n",
    "    num_pos = 0\n",
    "    num_neg = 0\n",
    "    num_zero = 0\n",
    "    count = 0\n",
    "    for x in arr:\n",
    "        count+=1\n",
    "        if x>0:\n",
    "            num_pos+=1\n",
    "        elif x<0:\n",
    "            num_neg+=1\n",
    "        else:\n",
    "            num_zero+=1\n",
    "    print(float(\"{0:.4f}\". format(num_pos/count)))\n",
    "    print(num_neg/count)\n",
    "    print(num_zero/count)\n",
    "if __name__ == '__main__':\n",
    "    n = int(input().strip())\n",
    "\n",
    "    arr = list(map(int, input().rstrip().split()))\n",
    "    \n",
    "    plusMinus(arr)"
   ]
  },
  {
   "cell_type": "code",
   "execution_count": null,
   "metadata": {},
   "outputs": [],
   "source": []
  }
 ],
 "metadata": {
  "kernelspec": {
   "display_name": "Python 3",
   "language": "python",
   "name": "python3"
  },
  "language_info": {
   "codemirror_mode": {
    "name": "ipython",
    "version": 3
   },
   "file_extension": ".py",
   "mimetype": "text/x-python",
   "name": "python",
   "nbconvert_exporter": "python",
   "pygments_lexer": "ipython3",
   "version": "3.8.3"
  }
 },
 "nbformat": 4,
 "nbformat_minor": 4
}
