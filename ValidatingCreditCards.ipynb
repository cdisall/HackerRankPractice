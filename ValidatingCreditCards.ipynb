{
 "cells": [
  {
   "cell_type": "markdown",
   "metadata": {},
   "source": [
    "## Validating Credit Cards"
   ]
  },
  {
   "cell_type": "code",
   "execution_count": 5,
   "metadata": {},
   "outputs": [
    {
     "name": "stdout",
     "output_type": "stream",
     "text": [
      "1\n",
      "5133-3367-8912-3456\n",
      "Invalid\n"
     ]
    }
   ],
   "source": [
    "def validate(card):\n",
    "    true = 1\n",
    "    false = 0\n",
    "    if (int(card[0])<4) or (int(card[0])>6) or ((len(card)!=16) and (len(card)!=19)):\n",
    "        return false\n",
    "    else:\n",
    "        for j in range(len(card)):\n",
    "            i = card[j]\n",
    "            l = ['0','1','2','3','4','5','6','7','8','9','-']\n",
    "            if i not in l:\n",
    "                return false\n",
    "            if i in card[j-3:j]:\n",
    "                if (i==card[j-3]) and (i==card[j-2]) and (i==card[j-1]):\n",
    "                    return false\n",
    "            if i == '-':\n",
    "                if (j!=4) and (j!=9) and (j!=14):\n",
    "                    return false\n",
    "        if '-' in card:\n",
    "            if (card[4]!='-') or (card[9]!='-') or (card[14]!='-'):\n",
    "                return false\n",
    "            tmp = []\n",
    "            for k in card:\n",
    "                if k!='-':\n",
    "                    tmp.append(k)\n",
    "            for j in range(len(tmp)):\n",
    "                i = card[j]\n",
    "                if i in tmp[j-3:j]:\n",
    "                    if (i==tmp[j-3]) and (i==tmp[j-2]) and (i==tmp[j-1]):\n",
    "                        return false\n",
    "    return true   \n",
    "\n",
    "if __name__ == '__main__':\n",
    "    for i in range(int(input())):\n",
    "        card = input().strip()\n",
    "        if validate(card):\n",
    "            print(\"Valid\")\n",
    "        else:\n",
    "            print(\"Invalid\")"
   ]
  }
 ],
 "metadata": {
  "kernelspec": {
   "display_name": "Python 3",
   "language": "python",
   "name": "python3"
  },
  "language_info": {
   "codemirror_mode": {
    "name": "ipython",
    "version": 3
   },
   "file_extension": ".py",
   "mimetype": "text/x-python",
   "name": "python",
   "nbconvert_exporter": "python",
   "pygments_lexer": "ipython3",
   "version": "3.8.3"
  }
 },
 "nbformat": 4,
 "nbformat_minor": 4
}
